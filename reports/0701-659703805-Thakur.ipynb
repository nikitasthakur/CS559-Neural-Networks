{
 "cells": [
  {
   "cell_type": "code",
   "execution_count": 1,
   "id": "ed5a2976",
   "metadata": {},
   "outputs": [],
   "source": [
    "import os,sys\n",
    "import numpy as np\n",
    "import pandas as pd\n",
    "import matplotlib.pyplot as plt\n",
    "import torch\n",
    "import torch.nn as nn\n",
    "import torchvision.transforms as transforms\n",
    "import torch.nn.functional as F\n",
    "import torch.utils.data as Data\n",
    "import torch.utils.data as torch_data\n",
    "import torchvision\n",
    "from torch import optim\n",
    "import string\n",
    "import random"
   ]
  },
  {
   "cell_type": "code",
   "execution_count": 220,
   "id": "9db3f7ce",
   "metadata": {},
   "outputs": [],
   "source": [
    "curr_dir = os.getcwd()\n",
    "rel_path = os.path.join(curr_dir, \"hw7\")\n",
    "model_name = '\\\\Name_Generator7-softmax-nnloss.pt'"
   ]
  },
  {
   "cell_type": "code",
   "execution_count": 4,
   "id": "f17cfde4",
   "metadata": {},
   "outputs": [],
   "source": [
    "names_data = pd.read_csv(rel_path+\"\\\\names.txt\")\n",
    "names_data = np.array(names_data['names'][names_data.shape[0]-2000:names_data.shape[0]]).reshape(-1,1)\n",
    "names_data = [name.lower() for name in names_data[:,0]]"
   ]
  },
  {
   "cell_type": "code",
   "execution_count": 5,
   "id": "6dc930a5",
   "metadata": {},
   "outputs": [
    {
     "data": {
      "text/plain": [
       "11"
      ]
     },
     "execution_count": 5,
     "metadata": {},
     "output_type": "execute_result"
    }
   ],
   "source": [
    "max_name_length = 0\n",
    "for i in range(len(names_data)):\n",
    "    max_name_length = max(max_name_length,len(names_data[i]))\n",
    "max_name_length"
   ]
  },
  {
   "cell_type": "code",
   "execution_count": 6,
   "id": "dfaac587",
   "metadata": {},
   "outputs": [
    {
     "data": {
      "text/plain": [
       "array(['brycen*****', 'oakley*****', 'isabel*****', ..., 'summer*****',\n",
       "       'milena*****', 'pearl******'], dtype='<U11')"
      ]
     },
     "execution_count": 6,
     "metadata": {},
     "output_type": "execute_result"
    }
   ],
   "source": [
    "# using the character \"*\" to indicate end of name (EON)\n",
    "preprocess_data = np.copy(names_data)\n",
    "eon = '*'\n",
    "for i in range(len(names_data)):\n",
    "    diff = (max_name_length - len(names_data[i]))\n",
    "    append = str(eon*diff)\n",
    "    preprocess_data[i] = preprocess_data[i]+append\n",
    "preprocess_data"
   ]
  },
  {
   "cell_type": "code",
   "execution_count": 7,
   "id": "c5936dee",
   "metadata": {},
   "outputs": [
    {
     "data": {
      "text/plain": [
       "tensor([[[0., 1., 0., 0., 0., 0., 0., 0., 0., 0., 0., 0., 0., 0., 0., 0., 0.,\n",
       "          0., 0., 0., 0., 0., 0., 0., 0., 0., 0.],\n",
       "         [0., 0., 0., 0., 0., 0., 0., 0., 0., 0., 0., 0., 0., 0., 0., 0., 0.,\n",
       "          1., 0., 0., 0., 0., 0., 0., 0., 0., 0.],\n",
       "         [0., 0., 0., 0., 0., 0., 0., 0., 0., 0., 0., 0., 0., 0., 0., 0., 0.,\n",
       "          0., 0., 0., 0., 0., 0., 0., 1., 0., 0.],\n",
       "         [0., 0., 1., 0., 0., 0., 0., 0., 0., 0., 0., 0., 0., 0., 0., 0., 0.,\n",
       "          0., 0., 0., 0., 0., 0., 0., 0., 0., 0.],\n",
       "         [0., 0., 0., 0., 1., 0., 0., 0., 0., 0., 0., 0., 0., 0., 0., 0., 0.,\n",
       "          0., 0., 0., 0., 0., 0., 0., 0., 0., 0.],\n",
       "         [0., 0., 0., 0., 0., 0., 0., 0., 0., 0., 0., 0., 0., 1., 0., 0., 0.,\n",
       "          0., 0., 0., 0., 0., 0., 0., 0., 0., 0.],\n",
       "         [0., 0., 0., 0., 0., 0., 0., 0., 0., 0., 0., 0., 0., 0., 0., 0., 0.,\n",
       "          0., 0., 0., 0., 0., 0., 0., 0., 0., 1.],\n",
       "         [0., 0., 0., 0., 0., 0., 0., 0., 0., 0., 0., 0., 0., 0., 0., 0., 0.,\n",
       "          0., 0., 0., 0., 0., 0., 0., 0., 0., 1.],\n",
       "         [0., 0., 0., 0., 0., 0., 0., 0., 0., 0., 0., 0., 0., 0., 0., 0., 0.,\n",
       "          0., 0., 0., 0., 0., 0., 0., 0., 0., 1.],\n",
       "         [0., 0., 0., 0., 0., 0., 0., 0., 0., 0., 0., 0., 0., 0., 0., 0., 0.,\n",
       "          0., 0., 0., 0., 0., 0., 0., 0., 0., 1.],\n",
       "         [0., 0., 0., 0., 0., 0., 0., 0., 0., 0., 0., 0., 0., 0., 0., 0., 0.,\n",
       "          0., 0., 0., 0., 0., 0., 0., 0., 0., 1.]]])"
      ]
     },
     "execution_count": 7,
     "metadata": {},
     "output_type": "execute_result"
    }
   ],
   "source": [
    "#one hot encoding of the alphabets\n",
    "\n",
    "alphabet = list(string.ascii_lowercase)\n",
    "alphabet.append('*')\n",
    "alphabet_size = len(alphabet)\n",
    "letter_num = dict()\n",
    "num_letter = dict()\n",
    "\n",
    "\n",
    "for i,letter in enumerate(alphabet):\n",
    "    letter_num[letter] = i\n",
    "    num_letter[i] = letter\n",
    "\n",
    "numeric_data = np.array([[letter_num[lt] for lt in name] for name in preprocess_data])\n",
    "\n",
    "def oneHotEncoding(array, num_labels):\n",
    "    encoded = np.zeros((np.multiply(*array.shape),num_labels),dtype=np.float32)\n",
    "    encoded[np.arange(encoded.shape[0]), array.flatten()] = 1.\n",
    "    encoded = encoded.reshape((*array.shape, num_labels))\n",
    "    \n",
    "    return encoded\n",
    "\n",
    "onehot_data = torch.from_numpy(oneHotEncoding(numeric_data, len(alphabet)))\n",
    "onehot_data = onehot_data.view(-1, 1, max_name_length, 27)\n",
    "onehot_data[0]"
   ]
  },
  {
   "cell_type": "code",
   "execution_count": 8,
   "id": "69a2777a",
   "metadata": {},
   "outputs": [],
   "source": [
    "outputs = np.copy(names_data)\n",
    "for i in range(len(preprocess_data)):\n",
    "    outputs[i] = preprocess_data[i][1:] + '*'\n",
    "\n",
    "output_data = np.array([[letter_num[lt] for lt in name] for name in outputs])\n",
    "output_oneHot = torch.from_numpy(oneHotEncoding(output_data, len(alphabet)))\n",
    "output_oneHot = output_oneHot.view(-1, 1, max_name_length, 27)"
   ]
  },
  {
   "cell_type": "code",
   "execution_count": 9,
   "id": "7b07233d",
   "metadata": {},
   "outputs": [],
   "source": [
    "hidden = 256\n",
    "lr = 0.001\n",
    "n = 2\n",
    "epochs = 100\n",
    "clip = 5\n",
    "batch_size = 1"
   ]
  },
  {
   "cell_type": "code",
   "execution_count": 10,
   "id": "9e569d92",
   "metadata": {},
   "outputs": [],
   "source": [
    "class NamesNN(nn.Module):\n",
    "    \n",
    "    def __init__(self, alphabet_size, hidden,n):\n",
    "        super(NamesNN,self).__init__()\n",
    "        self.embedding = nn.Linear(alphabet_size,alphabet_size*5)\n",
    "        self.lstm = nn.LSTM(alphabet_size*5, hidden, n,batch_first=False)\n",
    "        self.hiddenToAlphabet = nn.Linear(hidden,alphabet_size)\n",
    "        self.hidden = hidden\n",
    "        self.dropout = nn.Dropout(0.5)\n",
    "        self.softmax = nn.Softmax(dim=1)\n",
    "    \n",
    "    def forward(self,onehot_data,hc):\n",
    "        embd = self.embedding(onehot_data)\n",
    "        lstm_output, (h,c) = self.lstm(embd,hc)\n",
    "        lstm_output = lstm_output.contiguous().view(lstm_output.size()[0]*lstm_output.size()[1],self.hidden)\n",
    "        lstm_output = self.dropout(lstm_output)\n",
    "        alphabet_sp = self.hiddenToAlphabet(lstm_output)\n",
    "        alphabet_sp = F.log_softmax(alphabet_sp, dim=1)\n",
    "        return alphabet_sp, (h,c)\n",
    "    \n",
    "    def init_hidden(self,batch_size):\n",
    "        Wt = next(self.parameters()).data\n",
    "        ret = Wt.new(n, max_name_length, hidden).zero_().cuda()\n",
    "        return (ret,ret)"
   ]
  },
  {
   "cell_type": "code",
   "execution_count": 11,
   "id": "7003c51f",
   "metadata": {},
   "outputs": [],
   "source": [
    "def loader(onehot_data,output_oneHot,batch_size):\n",
    "    for i in range(onehot_data.shape[0]):\n",
    "        yield onehot_data[i],output_oneHot[i]"
   ]
  },
  {
   "cell_type": "code",
   "execution_count": 31,
   "id": "0791fe85",
   "metadata": {},
   "outputs": [
    {
     "name": "stdout",
     "output_type": "stream",
     "text": [
      "epoch#  0\n",
      "2658.724088847637\n",
      "epoch#  10\n",
      "2114.976481407881\n",
      "epoch#  20\n",
      "1432.1806806251407\n",
      "epoch#  30\n",
      "1062.5505344942212\n",
      "epoch#  40\n",
      "984.1983200330287\n",
      "epoch#  50\n",
      "934.9248605743051\n",
      "epoch#  60\n",
      "945.9705007839948\n",
      "epoch#  70\n",
      "968.4437523693778\n",
      "epoch#  80\n",
      "995.1064361776225\n",
      "epoch#  90\n",
      "979.3835919834673\n"
     ]
    },
    {
     "data": {
      "image/png": "[encoded data removed]",
      "text/plain": [
       "<Figure size 432x288 with 1 Axes>"
      ]
     },
     "metadata": {
      "needs_background": "light"
     },
     "output_type": "display_data"
    }
   ],
   "source": [
    "NNmodel = NamesNN(len(alphabet),hidden,n).cuda()\n",
    "#criterion = nn.CrossEntropyLoss()\n",
    "criterion = nn.NLLLoss()\n",
    "optimizer = torch.optim.Adam(NNmodel.parameters(), lr=lr)\n",
    "hc = NNmodel.init_hidden(1)\n",
    "# with torch.no_grad():\n",
    "#     x_test = next(loader(onehot_data,output_oneHot,batch_size))[0].cuda()\n",
    "#     test_scores ,(h,c) = NNmodel(x_test,hc)\n",
    "#     print(test_scores.shape)\n",
    "#     print(h.shape)\n",
    "#     print(c.shape)\n",
    "\n",
    "running_loss = np.zeros((epochs))\n",
    "\n",
    "for epoch in range(epochs):\n",
    "    hc = NNmodel.init_hidden(1)\n",
    "    for step,(X,Y) in enumerate(loader(onehot_data,output_oneHot,batch_size)):\n",
    "        NNmodel.zero_grad()\n",
    "        hc = tuple([each.data for each in hc])\n",
    "        X = X.cuda()\n",
    "        y_pred,hc = NNmodel(X,hc)\n",
    "        \n",
    "        Y_actual = torch.max(Y,2)[1].flatten().cuda()\n",
    "        loss = criterion(y_pred,Y_actual)\n",
    "        running_loss[epoch] += loss.item()\n",
    "        loss.backward()\n",
    "        nn.utils.clip_grad_norm_(NNmodel.parameters(), clip)\n",
    "        optimizer.step()\n",
    "        \n",
    "    if epoch%10 == 0:\n",
    "        print(\"epoch# \", epoch)\n",
    "        print(running_loss[epoch])\n",
    "\n",
    "plt.plot(running_loss, label='Loss')\n",
    "plt.legend(loc='best')\n",
    "plt.xlabel('epochs')\n",
    "plt.ylabel('Loss')\n",
    "plt.show()"
   ]
  },
  {
   "cell_type": "code",
   "execution_count": null,
   "id": "4f0ec96a",
   "metadata": {},
   "outputs": [],
   "source": []
  },
  {
   "cell_type": "code",
   "execution_count": 213,
   "id": "9809ab9d",
   "metadata": {},
   "outputs": [],
   "source": [
    "torch.save(NNmodel.state_dict(), rel_path + model_name)\n",
    "torch.save(NNmodel,'0702-659703805-Thakur.pth')"
   ]
  },
  {
   "cell_type": "code",
   "execution_count": null,
   "id": "7ce0ee5c",
   "metadata": {},
   "outputs": [],
   "source": []
  },
  {
   "cell_type": "code",
   "execution_count": null,
   "id": "15814d09",
   "metadata": {},
   "outputs": [],
   "source": []
  },
  {
   "cell_type": "code",
   "execution_count": null,
   "id": "52324bbc",
   "metadata": {},
   "outputs": [],
   "source": []
  },
  {
   "cell_type": "code",
   "execution_count": null,
   "id": "c183308e",
   "metadata": {},
   "outputs": [],
   "source": []
  }
 ],
 "metadata": {
  "kernelspec": {
   "display_name": "Python 3",
   "language": "python",
   "name": "python3"
  },
  "language_info": {
   "codemirror_mode": {
    "name": "ipython",
    "version": 3
   },
   "file_extension": ".py",
   "mimetype": "text/x-python",
   "name": "python",
   "nbconvert_exporter": "python",
   "pygments_lexer": "ipython3",
   "version": "3.8.8"
  }
 },
 "nbformat": 4,
 "nbformat_minor": 5
}
