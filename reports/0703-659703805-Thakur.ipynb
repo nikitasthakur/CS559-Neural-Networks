{
 "cells": [
  {
   "cell_type": "code",
   "execution_count": 18,
   "id": "b30efb6a",
   "metadata": {},
   "outputs": [],
   "source": [
    "import os,sys\n",
    "import numpy as np\n",
    "import pandas as pd\n",
    "import matplotlib.pyplot as plt\n",
    "import torch\n",
    "import torch.nn as nn\n",
    "import torchvision.transforms as transforms\n",
    "import torch.nn.functional as F\n",
    "import torch.utils.data as Data\n",
    "import torch.utils.data as torch_data\n",
    "import torchvision\n",
    "from torch import optim\n",
    "import string\n",
    "import random"
   ]
  },
  {
   "cell_type": "code",
   "execution_count": 19,
   "id": "a8d2db7a",
   "metadata": {},
   "outputs": [],
   "source": [
    "curr_dir = os.getcwd()\n",
    "rel_path = os.path.join(curr_dir, \"hw7\")\n",
    "model_name = '\\\\Name_Generator7-softmax-nnloss.pt'\n",
    "hidden = 256\n",
    "n = 2"
   ]
  },
  {
   "cell_type": "code",
   "execution_count": 20,
   "id": "eaaf39ae",
   "metadata": {},
   "outputs": [],
   "source": [
    "alphabet = list(string.ascii_lowercase)\n",
    "alphabet.append('*')\n",
    "alphabet_size = len(alphabet)\n",
    "letter_num = dict()\n",
    "num_letter = dict()\n",
    "\n",
    "\n",
    "for i,letter in enumerate(alphabet):\n",
    "    letter_num[letter] = i\n",
    "    num_letter[i] = letter"
   ]
  },
  {
   "cell_type": "code",
   "execution_count": 21,
   "id": "8e9e1def",
   "metadata": {},
   "outputs": [],
   "source": [
    "def oneHotEncoding(array, num_labels):\n",
    "    encoded = np.zeros((np.multiply(*array.shape),num_labels),dtype=np.float32)\n",
    "    encoded[np.arange(encoded.shape[0]), array.flatten()] = 1.\n",
    "    encoded = encoded.reshape((*array.shape, num_labels))\n",
    "    \n",
    "    return encoded"
   ]
  },
  {
   "cell_type": "code",
   "execution_count": 22,
   "id": "13633c93",
   "metadata": {},
   "outputs": [],
   "source": [
    "class NamesNN(nn.Module):\n",
    "    \n",
    "    def __init__(self, alphabet_size, hidden,n):\n",
    "        super(NamesNN,self).__init__()\n",
    "        self.embedding = nn.Linear(alphabet_size,alphabet_size*5)\n",
    "        self.lstm = nn.LSTM(alphabet_size*5, hidden, n,batch_first=False)\n",
    "        self.hiddenToAlphabet = nn.Linear(hidden,alphabet_size)\n",
    "        self.hidden = hidden\n",
    "        self.dropout = nn.Dropout(0.5)\n",
    "        self.softmax = nn.Softmax(dim=1)\n",
    "    \n",
    "    def forward(self,onehot_data,hc):\n",
    "        embd = self.embedding(onehot_data)\n",
    "        lstm_output, (h,c) = self.lstm(embd,hc)\n",
    "        lstm_output = lstm_output.contiguous().view(lstm_output.size()[0]*lstm_output.size()[1],self.hidden)\n",
    "        lstm_output = self.dropout(lstm_output)\n",
    "        alphabet_sp = self.hiddenToAlphabet(lstm_output)\n",
    "        alphabet_sp = F.log_softmax(alphabet_sp, dim=1)\n",
    "        return alphabet_sp, (h,c)\n",
    "    \n",
    "    def init_hidden(self,batch_size):\n",
    "        Wt = next(self.parameters()).data\n",
    "        ret = Wt.new(n, max_name_length, hidden).zero_().cuda()\n",
    "        return (ret,ret)"
   ]
  },
  {
   "cell_type": "code",
   "execution_count": 23,
   "id": "951c5379",
   "metadata": {},
   "outputs": [],
   "source": [
    "NNmodel = NamesNN(len(alphabet),256,2)"
   ]
  },
  {
   "cell_type": "code",
   "execution_count": 24,
   "id": "a77ba171",
   "metadata": {},
   "outputs": [],
   "source": [
    "init_para = torch.load(rel_path + model_name)\n",
    "PATH = \"./0702-659703805-Thakur.pth\"\n",
    "NamesNN = torch.load(PATH)"
   ]
  },
  {
   "cell_type": "code",
   "execution_count": 27,
   "id": "abaee256",
   "metadata": {},
   "outputs": [],
   "source": [
    "def name_gen(NNmodel,first_char):\n",
    "    name_list = [first_char]\n",
    "    first_char = first_char.lower()\n",
    "    first_char_idx = np.array([[letter_num[first_char]]])\n",
    "    first_char_onehot = oneHotEncoding(first_char_idx,alphabet_size)\n",
    "    first_char_onehot = torch.from_numpy(first_char_onehot)\n",
    "    NNmodel.eval()\n",
    "    NNmodel.cpu()\n",
    "    \n",
    "    hc = (torch.zeros((n,1,hidden)),torch.zeros((n,1,hidden)))\n",
    "    pred,hc = NNmodel(first_char_onehot,hc)\n",
    "    \n",
    "    pred_num = torch.exp(pred)\n",
    "    pred_topk = torch.topk(pred_num, 4)\n",
    "    #print(pred_top6)\n",
    "    random_prob = random.choices(pred_topk[1][0])\n",
    "    pred_letter = num_letter[int(random_prob[0].numpy())]\n",
    "    while pred_letter != '*':\n",
    "        name_list.append(pred_letter)\n",
    "        new_letter_id = np.array([[letter_num[pred_letter]]])\n",
    "        new_letter_onehot = torch.from_numpy(oneHotEncoding(new_letter_id, alphabet_size))\n",
    "        pred, hc = NNmodel(new_letter_onehot,hc)\n",
    "        pred_num = torch.exp(pred)\n",
    "        pred_topk = torch.topk(pred_num, 4)\n",
    "        random_prob = random.choices(pred_topk[1][0])\n",
    "        pred_letter = num_letter[int(random_prob[0].numpy())]\n",
    "        \n",
    "    return \"\".join(name_list)"
   ]
  },
  {
   "cell_type": "code",
   "execution_count": 32,
   "id": "26228e40",
   "metadata": {},
   "outputs": [
    {
     "name": "stdout",
     "output_type": "stream",
     "text": [
      "Enter the starting letter for name generation:\n",
      "g\n",
      "['Ggereviandelol', 'Ggunitevi', 'Gwesevialaneayadroansthemiva', 'Gwisaian', 'Gguassesaumie', 'Gema', 'Ggeleyorelchalerisreverlyaytcasaiaysaysoerliaiatererycoelyarelle', 'Ggironn', 'Gwisana', 'Gemahadin', 'Gwemaxsniaranolarastadilinsthannoslyarea', 'Ggaresoennnaeiaylia', 'Gem', 'Ggunc', 'Garrien', 'Genacencanndielolan', 'Ggimulaladareoreloreeazonzann', 'Ggunn', 'Gwelyarera', 'Galick']\n"
     ]
    }
   ],
   "source": [
    "print('Enter the starting letter for name generation:')\n",
    "x = input()\n",
    "names_for_a_letter = list()\n",
    "while(len(names_for_a_letter)) != 20:\n",
    "    new_name = name_gen(NamesNN,x.upper())\n",
    "    if len(new_name) > 2:\n",
    "        names_for_a_letter.append(new_name)\n",
    "\n",
    "print(names_for_a_letter)"
   ]
  }
 ],
 "metadata": {
  "kernelspec": {
   "display_name": "Python 3",
   "language": "python",
   "name": "python3"
  },
  "language_info": {
   "codemirror_mode": {
    "name": "ipython",
    "version": 3
   },
   "file_extension": ".py",
   "mimetype": "text/x-python",
   "name": "python",
   "nbconvert_exporter": "python",
   "pygments_lexer": "ipython3",
   "version": "3.8.8"
  }
 },
 "nbformat": 4,
 "nbformat_minor": 5
}
